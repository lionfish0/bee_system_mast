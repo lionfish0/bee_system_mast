{
 "cells": [
  {
   "cell_type": "code",
   "execution_count": 1,
   "metadata": {},
   "outputs": [
    {
     "name": "stdout",
     "output_type": "stream",
     "text": [
      "Creating camera object\n",
      "Getting payload object\n",
      "Creating stream\n",
      "Starting Acquisition\n",
      "Creating stream buffer\n",
      "Done\n"
     ]
    }
   ],
   "source": [
    "from bee_system.camera_control import Camera_Control\n",
    "c = Camera_Control()"
   ]
  },
  {
   "cell_type": "code",
   "execution_count": 3,
   "metadata": {},
   "outputs": [
    {
     "name": "stdout",
     "output_type": "stream",
     "text": [
      "Camera vendor : Smartek\n",
      "Camera model  : GCC2062M\n",
      "Camera id     : 6CD146020812\n",
      "ROI           : 2064x1544 at 0,0\n",
      "Payload       : 3186816\n",
      "Pixel format  : Mono8\n"
     ]
    }
   ],
   "source": [
    "c.print_status()"
   ]
  },
  {
   "cell_type": "code",
   "execution_count": null,
   "metadata": {
    "collapsed": true
   },
   "outputs": [],
   "source": []
  },
  {
   "cell_type": "code",
   "execution_count": 1,
   "metadata": {},
   "outputs": [
    {
     "name": "stderr",
     "output_type": "stream",
     "text": [
      "/home/pi/bee_system/bee_system/blink_control.py:6: RuntimeWarning: This channel is already in use, continuing anyway.  Use GPIO.setwarnings(False) to disable warnings.\n",
      "  GPIO.setup(3, GPIO.OUT)\n",
      "/home/pi/bee_system/bee_system/blink_control.py:7: RuntimeWarning: This channel is already in use, continuing anyway.  Use GPIO.setwarnings(False) to disable warnings.\n",
      "  GPIO.setup(5, GPIO.OUT)\n"
     ]
    }
   ],
   "source": [
    "import bee_system\n",
    "from bee_system.blink_control import blink_worker, configure_gpio\n",
    "import threading\n",
    "configure_gpio()\n",
    "run_blink = threading.Event()\n",
    "t = threading.Thread(target=blink_worker,args=(run_blink,))\n",
    "t.start()"
   ]
  },
  {
   "cell_type": "code",
   "execution_count": 5,
   "metadata": {
    "collapsed": true
   },
   "outputs": [],
   "source": [
    "run_blink.clear()"
   ]
  },
  {
   "cell_type": "code",
   "execution_count": 16,
   "metadata": {
    "collapsed": true
   },
   "outputs": [],
   "source": [
    "import queue\n",
    "q = queue.Queue()\n",
    "q.put(1)\n",
    "q.put(2)\n",
    "q.put(3)"
   ]
  },
  {
   "cell_type": "code",
   "execution_count": 24,
   "metadata": {},
   "outputs": [],
   "source": [
    "if not q.empty():\n",
    "    print(\"!\")\n",
    "    print(q.get())"
   ]
  },
  {
   "cell_type": "code",
   "execution_count": null,
   "metadata": {
    "collapsed": true
   },
   "outputs": [],
   "source": []
  },
  {
   "cell_type": "code",
   "execution_count": null,
   "metadata": {
    "collapsed": true
   },
   "outputs": [],
   "source": []
  }
 ],
 "metadata": {
  "kernelspec": {
   "display_name": "Python 3",
   "language": "python",
   "name": "python3"
  },
  "language_info": {
   "codemirror_mode": {
    "name": "ipython",
    "version": 3
   },
   "file_extension": ".py",
   "mimetype": "text/x-python",
   "name": "python",
   "nbconvert_exporter": "python",
   "pygments_lexer": "ipython3",
   "version": "3.4.2"
  }
 },
 "nbformat": 4,
 "nbformat_minor": 2
}
